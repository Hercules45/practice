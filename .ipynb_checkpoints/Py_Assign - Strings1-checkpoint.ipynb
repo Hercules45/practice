{
 "cells": [
  {
   "cell_type": "code",
   "execution_count": 1,
   "id": "f2159c21-9139-4a46-b96f-bb4bdf9b42c3",
   "metadata": {},
   "outputs": [
    {
     "name": "stdout",
     "output_type": "stream",
     "text": [
      "hello\n"
     ]
    }
   ],
   "source": [
    "print(\"hello\")\n",
    "\n"
   ]
  },
  {
   "cell_type": "code",
   "execution_count": null,
   "id": "d8787d33-3d6d-459a-86b9-e5dd91a54040",
   "metadata": {},
   "outputs": [],
   "source": [
    "--------------------------------------------------------------------------------------------------------"
   ]
  },
  {
   "cell_type": "code",
   "execution_count": null,
   "id": "715daf4a-cf35-4561-92e0-31582ba4009b",
   "metadata": {},
   "outputs": [],
   "source": [
    "# Q2) Print the negative index of each letter\n",
    "\n",
    "\n"
   ]
  },
  {
   "cell_type": "code",
   "execution_count": null,
   "id": "12cf4b8e-dd75-4778-8dfc-9420feafda28",
   "metadata": {},
   "outputs": [],
   "source": [
    "--------------------------------------------------------------------------------------------------------"
   ]
  },
  {
   "cell_type": "code",
   "execution_count": null,
   "id": "674500b9-36e5-4a17-96b4-44cd6a1165d4",
   "metadata": {},
   "outputs": [],
   "source": [
    "# Q3) Print the postive and negative index of each letter\n",
    "\n",
    "\n",
    "\n"
   ]
  },
  {
   "cell_type": "code",
   "execution_count": null,
   "id": "9dbbbcb2-8bb9-4e81-85bc-219a7b655dbb",
   "metadata": {},
   "outputs": [],
   "source": [
    "--------------------------------------------------------------------------------------------------------"
   ]
  },
  {
   "cell_type": "code",
   "execution_count": null,
   "id": "f815e1e4-4a07-4fda-b20d-e34624aa87c4",
   "metadata": {},
   "outputs": [],
   "source": [
    "# Q4) Wap ask to print the index of all 'a'  in a given string\n",
    "\n",
    "\n",
    "\n"
   ]
  },
  {
   "cell_type": "code",
   "execution_count": null,
   "id": "727ac49d-eaf6-40e8-8e2d-e10e891f6a39",
   "metadata": {},
   "outputs": [],
   "source": [
    "--------------------------------------------------------------------------------------------------------"
   ]
  },
  {
   "cell_type": "code",
   "execution_count": null,
   "id": "946bb7fc-2a82-4111-b181-3acfd85fbd83",
   "metadata": {},
   "outputs": [],
   "source": [
    "# Q5) Wap ask to print the number of 'a's  in a given string\n",
    "\n",
    "\n",
    "\n"
   ]
  },
  {
   "cell_type": "code",
   "execution_count": null,
   "id": "c56b5117-6228-49f9-a171-0350fa38f238",
   "metadata": {},
   "outputs": [],
   "source": [
    "--------------------------------------------------------------------------------------------------------"
   ]
  },
  {
   "cell_type": "code",
   "execution_count": null,
   "id": "0ab997d7-e18e-412d-a636-ee7e9a745527",
   "metadata": {},
   "outputs": [],
   "source": [
    "# Q6) Wap ask to print the sum of the index of all 'a'  in a given string\n",
    "\n",
    "\n",
    "\n"
   ]
  },
  {
   "cell_type": "code",
   "execution_count": null,
   "id": "f5d13eb9-38b1-4ac4-bc7d-66f9e9654e97",
   "metadata": {},
   "outputs": [],
   "source": [
    "--------------------------------------------------------------------------------------------------------"
   ]
  },
  {
   "cell_type": "code",
   "execution_count": null,
   "id": "3f5f9a57-3760-439d-b1f5-9febb14167eb",
   "metadata": {},
   "outputs": [],
   "source": [
    "# Q7) Wap to find the vowels in a given string\n",
    "\n",
    "\n",
    "\n"
   ]
  },
  {
   "cell_type": "code",
   "execution_count": null,
   "id": "8cdf6a90-4793-4938-83df-582916f636da",
   "metadata": {},
   "outputs": [],
   "source": [
    "--------------------------------------------------------------------------------------------------------"
   ]
  },
  {
   "cell_type": "code",
   "execution_count": null,
   "id": "d06d408d-472b-4b4b-8a24-3aa4b28148c3",
   "metadata": {},
   "outputs": [],
   "source": [
    "# Q8) wap to find the number of vowels in a given string\n",
    "\n",
    "\n"
   ]
  },
  {
   "cell_type": "code",
   "execution_count": null,
   "id": "cbeaed60-a75f-4e7c-9a0e-dc7425f4ca6a",
   "metadata": {},
   "outputs": [],
   "source": [
    "--------------------------------------------------------------------------------------------------------"
   ]
  },
  {
   "cell_type": "code",
   "execution_count": null,
   "id": "30f94596-cf4b-4bf8-8fcb-7262b9d66b01",
   "metadata": {},
   "outputs": [],
   "source": [
    "# Q9) wap to find the indexes of vowels in a given string\n",
    "\n",
    "\n"
   ]
  },
  {
   "cell_type": "code",
   "execution_count": null,
   "id": "c429cea7-34ea-4685-a162-d50211e8aa40",
   "metadata": {},
   "outputs": [],
   "source": [
    "--------------------------------------------------------------------------------------------------------"
   ]
  },
  {
   "cell_type": "code",
   "execution_count": null,
   "id": "63b7c250-4407-4f33-b4e1-628ae8bfcd61",
   "metadata": {},
   "outputs": [],
   "source": [
    "# Q10) wap to find the sum of the indexes of vowels in a given string\n",
    "\n",
    "\n",
    "\n"
   ]
  },
  {
   "cell_type": "code",
   "execution_count": null,
   "id": "cccdd1c4-2eea-4c62-bf5b-e4f4b396aa19",
   "metadata": {},
   "outputs": [],
   "source": [
    "--------------------------------------------------------------------------------------------------------"
   ]
  },
  {
   "cell_type": "code",
   "execution_count": null,
   "id": "2d4505d1-3319-4d0a-8f6d-830fddcfb846",
   "metadata": {},
   "outputs": [],
   "source": [
    "# Q11) wap to find the unique vowels in a given string\n",
    "\n",
    "\n"
   ]
  },
  {
   "cell_type": "code",
   "execution_count": null,
   "id": "f08fb8c0-e324-427e-b65a-5dbf47f3588c",
   "metadata": {},
   "outputs": [],
   "source": [
    "--------------------------------------------------------------------------------------------------------"
   ]
  },
  {
   "cell_type": "code",
   "execution_count": null,
   "id": "a333d67f-d4b7-44b0-adf3-ed7b34100478",
   "metadata": {},
   "outputs": [],
   "source": [
    "# Q12) wap to find the number of 'ola'  in a given string 'ola ola ola'\n",
    "\n",
    "\n",
    "\n"
   ]
  }
 ],
 "metadata": {
  "kernelspec": {
   "display_name": "Python 3 (ipykernel)",
   "language": "python",
   "name": "python3"
  },
  "language_info": {
   "codemirror_mode": {
    "name": "ipython",
    "version": 3
   },
   "file_extension": ".py",
   "mimetype": "text/x-python",
   "name": "python",
   "nbconvert_exporter": "python",
   "pygments_lexer": "ipython3",
   "version": "3.11.7"
  }
 },
 "nbformat": 4,
 "nbformat_minor": 5
}
