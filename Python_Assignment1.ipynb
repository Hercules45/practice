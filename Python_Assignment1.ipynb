{
 "cells": [
  {
   "cell_type": "code",
   "execution_count": null,
   "id": "38a6bf3a-66bc-43f6-84bf-fe3545e3b3af",
   "metadata": {},
   "outputs": [],
   "source": [
    "Q1. Ask the user to enter a number. Print out the square of the number,\n",
    "Sample output is shown below.\n",
    "\n",
    "Enter a\n",
    "number: 5 The\n",
    "square of 5 is 25."
   ]
  },
  {
   "cell_type": "code",
   "execution_count": 1,
   "id": "db3e7a26-b361-405f-be0e-663518036df1",
   "metadata": {},
   "outputs": [
    {
     "name": "stdin",
     "output_type": "stream",
     "text": [
      "Enter a number: 5\n"
     ]
    },
    {
     "name": "stdout",
     "output_type": "stream",
     "text": [
      "The square of 5 is 25\n"
     ]
    }
   ],
   "source": [
    "num = eval(input(\"Enter a number:\"))\n",
    "square = num*num\n",
    "\n",
    "print(f\"The square of {num} is {square}\")"
   ]
  },
  {
   "cell_type": "code",
   "execution_count": null,
   "id": "07ec52c5-977c-4d7c-b212-cbf1ec18c07e",
   "metadata": {},
   "outputs": [],
   "source": [
    "-------------------------------------------------------------------------------------------------------------"
   ]
  },
  {
   "cell_type": "code",
   "execution_count": null,
   "id": "0bb7f164-2355-4537-9ff6-cef8d882a970",
   "metadata": {},
   "outputs": [],
   "source": [
    "Q2. Ask the user to enter a number x. print out x, 2x, 3x, 4x, and 5x,\n",
    "each separated by three dashes, like below.\n",
    "Enter a number: 7\n",
    "7---14---21---28---35"
   ]
  },
  {
   "cell_type": "code",
   "execution_count": 2,
   "id": "fca42287-f877-46a9-b18c-3fda38be253d",
   "metadata": {},
   "outputs": [
    {
     "name": "stdin",
     "output_type": "stream",
     "text": [
      "Enter a number:  7\n"
     ]
    },
    {
     "name": "stdout",
     "output_type": "stream",
     "text": [
      "7---14---21---28---35\n"
     ]
    }
   ],
   "source": [
    "num = eval(input(\"Enter a number: \"))\n",
    "print(f\"{num}---{2*num}---{3*num}---{4*num}---{5*num}\")"
   ]
  },
  {
   "cell_type": "code",
   "execution_count": null,
   "id": "54ead52c-af3a-4f70-bc2e-701612449338",
   "metadata": {},
   "outputs": [],
   "source": [
    "--------------------------------------------------------------------------------------------------------------"
   ]
  },
  {
   "cell_type": "code",
   "execution_count": null,
   "id": "e5428934-3e21-4856-897a-8b4d994524fc",
   "metadata": {},
   "outputs": [],
   "source": [
    "Q3. Write a program that asks the user for a weight in kilograms and\n",
    "converts it to pounds. There are 2.2 pounds in a kilogram."
   ]
  },
  {
   "cell_type": "code",
   "execution_count": 3,
   "id": "119c8e82-64f6-40ca-951f-993491623366",
   "metadata": {},
   "outputs": [
    {
     "name": "stdin",
     "output_type": "stream",
     "text": [
      "Enter your weight in kg 70\n"
     ]
    },
    {
     "name": "stdout",
     "output_type": "stream",
     "text": [
      "Your weight in pounds is 154.0\n"
     ]
    }
   ],
   "source": [
    "wt_kg = eval(input(\"Enter your weight in kg\"))\n",
    "wt_pd = wt_kg*2.2\n",
    "print(f\"Your weight in pounds is {wt_pd}\")"
   ]
  },
  {
   "cell_type": "code",
   "execution_count": null,
   "id": "c32520fc-f296-4d2e-a19f-24f525783630",
   "metadata": {},
   "outputs": [],
   "source": [
    "---------------------------------------------------------------------------------------------------------------"
   ]
  },
  {
   "cell_type": "code",
   "execution_count": null,
   "id": "b3af0c99-dd1e-4561-9af4-61fb636e2aba",
   "metadata": {},
   "outputs": [],
   "source": [
    "Q4. Write a program that asks the user to enter three numbers (use three\n",
    "separate input statements).Create variables called total and average\n",
    "that hold the sum and average of the three numbers and print out the\n",
    "values of total and average."
   ]
  },
  {
   "cell_type": "code",
   "execution_count": 4,
   "id": "8ddc77e2-5aad-49b1-b0c9-ccaf55f6df1a",
   "metadata": {},
   "outputs": [
    {
     "name": "stdin",
     "output_type": "stream",
     "text": [
      "Enter 1st number: 10\n",
      "Enter 2nd number: 10\n",
      "Enter 3rd number: 10\n"
     ]
    },
    {
     "name": "stdout",
     "output_type": "stream",
     "text": [
      "The total of 10,10,10 is 30 and their average is 10.0\n"
     ]
    }
   ],
   "source": [
    "n1 = eval(input(\"Enter 1st number:\"))\n",
    "n2 = eval(input(\"Enter 2nd number:\"))\n",
    "n3 = eval(input(\"Enter 3rd number:\"))\n",
    "\n",
    "total = n1 + n2 + n3\n",
    "average = total/3\n",
    "\n",
    "print(f\"The total of {n1},{n2},{n3} is {total} and their average is {average}\")\n"
   ]
  },
  {
   "cell_type": "code",
   "execution_count": null,
   "id": "f1347734-4909-49b9-aae3-45389cf0b5d8",
   "metadata": {},
   "outputs": [],
   "source": [
    "------------------------------------------------------------------------------------------------------------------"
   ]
  },
  {
   "cell_type": "code",
   "execution_count": null,
   "id": "300ed253-b093-4efc-927e-c6520be1f1cb",
   "metadata": {},
   "outputs": [],
   "source": [
    "Q5 . A lot of cell phones have tip calculators. Write one. Ask the user for\n",
    "the price of the meal and the percent tip they want to leave. Then\n",
    "print both the tip amount and the total bill with the tip included."
   ]
  },
  {
   "cell_type": "code",
   "execution_count": 5,
   "id": "c9e83616-b4bb-4b4e-b11e-343de6cd96bb",
   "metadata": {},
   "outputs": [
    {
     "name": "stdin",
     "output_type": "stream",
     "text": [
      "how much is the total price of the meal?: 100\n",
      "how much tip % do you want to pay?: 10\n"
     ]
    },
    {
     "name": "stdout",
     "output_type": "stream",
     "text": [
      "Your total bill is 110.0\n"
     ]
    }
   ],
   "source": [
    "bill = eval(input(\"how much is the total price of the meal?:\"))\n",
    "tip = eval(input(\"how much tip % do you want to pay?:\"))\n",
    "\n",
    "\n",
    "tip_amount = (tip*bill)/100\n",
    "total_bill = bill + tip_amount\n",
    "\n",
    "print(f\"Your total bill is {total_bill}\")"
   ]
  },
  {
   "cell_type": "code",
   "execution_count": null,
   "id": "bef924cf-a7fa-4ffb-ba3c-ec7ec5fd52ee",
   "metadata": {},
   "outputs": [],
   "source": []
  },
  {
   "cell_type": "code",
   "execution_count": null,
   "id": "721ec0b8-908b-4e17-ac83-4ac42ce8c93f",
   "metadata": {},
   "outputs": [],
   "source": []
  },
  {
   "cell_type": "code",
   "execution_count": null,
   "id": "3cf4a2d0-eda1-474e-ae95-d868bc0b9c04",
   "metadata": {},
   "outputs": [],
   "source": []
  }
 ],
 "metadata": {
  "kernelspec": {
   "display_name": "Python 3 (ipykernel)",
   "language": "python",
   "name": "python3"
  },
  "language_info": {
   "codemirror_mode": {
    "name": "ipython",
    "version": 3
   },
   "file_extension": ".py",
   "mimetype": "text/x-python",
   "name": "python",
   "nbconvert_exporter": "python",
   "pygments_lexer": "ipython3",
   "version": "3.11.7"
  }
 },
 "nbformat": 4,
 "nbformat_minor": 5
}
