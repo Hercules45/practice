{
 "cells": [
  {
   "cell_type": "code",
   "execution_count": null,
   "id": "425a6699-e50a-4699-b2c9-cbdfeda2dc0f",
   "metadata": {},
   "outputs": [],
   "source": [
    "1. Write a program that asks the user to enter a string. The program should then print the following:\n",
    "(a) The total number of characters in the string\n",
    "(b) The string repeated 10 times\n",
    "(c) The first character of the string (remember that string indices start at 0) (d) The first three\n",
    "characters of the string\n",
    "(e) The last three characters of the string\n",
    "(f) The string backwards\n",
    "(g) The seventh character of the string if the string is long enough and a message otherwise\n",
    "(h) The string with its first and last characters removed\n",
    "(i) The string in all caps\n",
    "(j) The string with every a replaced with an e "
   ]
  },
  {
   "cell_type": "code",
   "execution_count": null,
   "id": "a098a081-ccc8-4832-ad6a-2c64781091ed",
   "metadata": {},
   "outputs": [],
   "source": []
  },
  {
   "cell_type": "code",
   "execution_count": null,
   "id": "cc11775b-d1f1-4a2d-8502-c3438324adb6",
   "metadata": {},
   "outputs": [],
   "source": [
    "----------------------------------------------------------------------------------------------------------------------"
   ]
  },
  {
   "cell_type": "code",
   "execution_count": null,
   "id": "d070e159-561a-40dd-9e6d-2d92b312c56f",
   "metadata": {},
   "outputs": [],
   "source": [
    "2. A simple way to estimate the number of words in a string is to count the number of spaces in the\n",
    "string. Write a program that asks the user for a string and returns an estimate of how many words\n",
    "are in the string.\n",
    "Tip: You need to count the number of words using spaces"
   ]
  },
  {
   "cell_type": "code",
   "execution_count": null,
   "id": "4357334d-f395-47e6-9830-847984d574a1",
   "metadata": {},
   "outputs": [],
   "source": []
  },
  {
   "cell_type": "code",
   "execution_count": null,
   "id": "5d2afcd9-37e3-4650-af16-5fe0abdac554",
   "metadata": {},
   "outputs": [],
   "source": [
    "----------------------------------------------------------------------------------------------------------------------"
   ]
  },
  {
   "cell_type": "code",
   "execution_count": null,
   "id": "3869b180-2f34-4b3a-9d83-80826061c953",
   "metadata": {},
   "outputs": [],
   "source": [
    "3.Write a program that asks the user to enter a word and prints out whether that word contains any\n",
    "vowels."
   ]
  },
  {
   "cell_type": "code",
   "execution_count": null,
   "id": "56cb36f5-eefb-46f0-895b-44325a79c4f8",
   "metadata": {},
   "outputs": [],
   "source": []
  },
  {
   "cell_type": "code",
   "execution_count": null,
   "id": "4c5587b0-635b-4845-b7aa-12397f30d042",
   "metadata": {},
   "outputs": [],
   "source": [
    "----------------------------------------------------------------------------------------------------------------------"
   ]
  },
  {
   "cell_type": "code",
   "execution_count": null,
   "id": "1faa6e4e-0531-4e54-849c-f6ffce534a78",
   "metadata": {},
   "outputs": [],
   "source": [
    "4. Improvise above code by providing unique vowels"
   ]
  },
  {
   "cell_type": "code",
   "execution_count": null,
   "id": "52231bbc-281f-411b-b8aa-04000e36a07d",
   "metadata": {},
   "outputs": [],
   "source": []
  },
  {
   "cell_type": "code",
   "execution_count": null,
   "id": "9a91a1cb-1b8b-4a4e-b97c-030e394b1ea3",
   "metadata": {},
   "outputs": [],
   "source": [
    "----------------------------------------------------------------------------------------------------------------------"
   ]
  },
  {
   "cell_type": "code",
   "execution_count": null,
   "id": "5d5768dd-a14c-40ac-ac3f-5c6405993265",
   "metadata": {},
   "outputs": [],
   "source": [
    "5. Write a program that asks the user to enter a string. The program should create a new string\n",
    "called new_string from the user’s string such that the second character is changed to an asterisk and\n",
    "three exclamation points are attached to the end of the string. Finally, print new_string.\n",
    "Typical output is shown below:\n",
    "Enter your string: Qbert\n",
    "Output: Q*ert!!!"
   ]
  },
  {
   "cell_type": "code",
   "execution_count": null,
   "id": "d535c242-eda9-4fa3-814d-f8312ccdb7a4",
   "metadata": {},
   "outputs": [],
   "source": []
  },
  {
   "cell_type": "code",
   "execution_count": null,
   "id": "9c9b4f95-86eb-43c6-bf82-d1b9b10c3cd9",
   "metadata": {},
   "outputs": [],
   "source": [
    "----------------------------------------------------------------------------------------------------------------------"
   ]
  },
  {
   "cell_type": "code",
   "execution_count": null,
   "id": "07c62606-f44d-4f02-96f9-2a98576c97b1",
   "metadata": {},
   "outputs": [],
   "source": [
    "6. Write a program that asks the user to enter a word and determines whether the word is a\n",
    "palindrome or not. A palindrome is a word that reads the same backwards as forwards"
   ]
  },
  {
   "cell_type": "code",
   "execution_count": null,
   "id": "f4fa593a-1e78-4504-b8f3-374b02458aa8",
   "metadata": {},
   "outputs": [],
   "source": []
  },
  {
   "cell_type": "code",
   "execution_count": null,
   "id": "4ce41dc6-dc33-4797-a7ec-dda6b52576f1",
   "metadata": {},
   "outputs": [],
   "source": [
    "----------------------------------------------------------------------------------------------------------------------"
   ]
  },
  {
   "cell_type": "code",
   "execution_count": null,
   "id": "56635445-b107-48c2-a6c2-fc97f9aa3f62",
   "metadata": {},
   "outputs": [],
   "source": [
    "7. At a certain school, student email addresses end with @student.college.edu, while professor\n",
    "email addresses end with @prof.college.edu. Write a program that first asks the user how many\n",
    "email addresses they will be entering, and then has the user enter those addresses. After all the\n",
    "email addresses are entered, the program should print out a message indicating either that all the\n",
    "addresses are student addresses or that there were some professor addresses entered."
   ]
  },
  {
   "cell_type": "code",
   "execution_count": null,
   "id": "a8d29a2d-8747-43b9-ac84-a58518a33a88",
   "metadata": {},
   "outputs": [],
   "source": []
  },
  {
   "cell_type": "code",
   "execution_count": null,
   "id": "a5fb942c-7f8f-4d42-a96e-6d314752330e",
   "metadata": {},
   "outputs": [],
   "source": [
    "----------------------------------------------------------------------------------------------------------------------"
   ]
  },
  {
   "cell_type": "code",
   "execution_count": null,
   "id": "bb76f3cf-55e7-4000-82a3-179e8f81bdcc",
   "metadata": {},
   "outputs": [],
   "source": [
    "8. Write a program that asks the user to enter a string, then prints out each letter of the string\n",
    "doubled and on a separate line. For instance,\n",
    "if the user entered HEY,\n",
    "the output would be\n",
    "HH\n",
    "EE\n",
    "YY"
   ]
  },
  {
   "cell_type": "code",
   "execution_count": null,
   "id": "1d904421-43cc-4172-98a3-129a46ca879d",
   "metadata": {},
   "outputs": [],
   "source": []
  },
  {
   "cell_type": "code",
   "execution_count": null,
   "id": "3cd8201a-69bc-4fa0-bd09-5738b284d371",
   "metadata": {},
   "outputs": [],
   "source": [
    "----------------------------------------------------------------------------------------------------------------------"
   ]
  },
  {
   "cell_type": "code",
   "execution_count": null,
   "id": "da15dbdb-d83b-4725-8b47-e5bfdfdec0d3",
   "metadata": {},
   "outputs": [],
   "source": [
    "9.Write a program that asks the user to enter a word that contains the letter a. The program should\n",
    "then print the following two lines: On the first line should be the part of the string up to and\n",
    "including the the first a, and on the second line should be the rest of the string.\n",
    "Sample output is shown below:\n",
    "Enter a word: buffalo\n",
    "buffa\n",
    "lo"
   ]
  },
  {
   "cell_type": "code",
   "execution_count": null,
   "id": "6c51afa8-7e79-43e5-96b0-7cb75165790c",
   "metadata": {},
   "outputs": [],
   "source": []
  },
  {
   "cell_type": "code",
   "execution_count": null,
   "id": "957f4435-824b-451d-88a7-0b294b881f13",
   "metadata": {},
   "outputs": [],
   "source": [
    "----------------------------------------------------------------------------------------------------------------------"
   ]
  },
  {
   "cell_type": "code",
   "execution_count": null,
   "id": "d2445ac9-e1dc-4822-bd6f-715128ee9a41",
   "metadata": {},
   "outputs": [],
   "source": [
    "10. Write a program that asks the user to enter a word and then capitalizes every other letter of that\n",
    "word.\n",
    "So if the user enters rhinoceros,\n",
    "the program should print rHiNoCeRoS."
   ]
  },
  {
   "cell_type": "code",
   "execution_count": null,
   "id": "477b793f-66f7-465e-b88f-58e01a0b2f77",
   "metadata": {},
   "outputs": [],
   "source": []
  },
  {
   "cell_type": "code",
   "execution_count": null,
   "id": "3b27ddf9-d142-4f46-90ba-fa77ba7ad550",
   "metadata": {},
   "outputs": [],
   "source": [
    "----------------------------------------------------------------------------------------------------------------------"
   ]
  },
  {
   "cell_type": "code",
   "execution_count": null,
   "id": "85b233f5-cc6b-4c3d-9c90-126440b416f8",
   "metadata": {},
   "outputs": [],
   "source": [
    "11. Write a program that asks the user to enter two strings of the same length. The program should\n",
    "then check to see if the strings are of the same length. If they are not, the program should print an\n",
    "appropriate message and exit. If they are of the same length, the program should alternate the\n",
    "characters of the two strings. For example,\n",
    "if the user enters abcde and ABCDE\n",
    "the program should print out AaBbCcDdEe."
   ]
  },
  {
   "cell_type": "code",
   "execution_count": null,
   "id": "d682e552-e48f-4076-a64a-57a0f942dbd4",
   "metadata": {},
   "outputs": [],
   "source": []
  },
  {
   "cell_type": "code",
   "execution_count": null,
   "id": "3f6101e5-1f9a-4f72-8907-f3820c10c6e8",
   "metadata": {},
   "outputs": [],
   "source": [
    "----------------------------------------------------------------------------------------------------------------------"
   ]
  },
  {
   "cell_type": "code",
   "execution_count": null,
   "id": "ec53b234-0dd4-448f-89f6-4b96e4e01c65",
   "metadata": {},
   "outputs": [],
   "source": [
    "12. Write a program that asks the user to enter their name in lowercase and then capitalizes the first\n",
    "letter of each word of their name."
   ]
  },
  {
   "cell_type": "code",
   "execution_count": null,
   "id": "251132ba-cec6-44cf-b403-1072c0bd62fd",
   "metadata": {},
   "outputs": [],
   "source": []
  },
  {
   "cell_type": "code",
   "execution_count": null,
   "id": "053fc42c-166c-428a-be14-68ee7e67bfac",
   "metadata": {},
   "outputs": [],
   "source": [
    "----------------------------------------------------------------------------------------------------------------------"
   ]
  },
  {
   "cell_type": "code",
   "execution_count": null,
   "id": "f34eb307-c3e0-4fb5-99eb-0b19535528d4",
   "metadata": {},
   "outputs": [],
   "source": [
    "13. The goal of this exercise is to see if you can mimic the behavior of the in operator and the count\n",
    "and index methods using only variables, for loops, and if statements.\n",
    "(a) Without using the in operator, write a program that asks the user for a string and a letter\n",
    "and prints out whether or not the letter appears in the string.\n",
    "(b) Without using the count method, write a program that asks the user for a string and a\n",
    "letter and counts how many occurrences there are of the letter in the string.\n",
    "(c) Without using the index method, write a program that asks the user for a string and a\n",
    "letter and prints out the index of the first occurrence of the letter in the string. If the letter is\n",
    "not in the string, the program should say so."
   ]
  },
  {
   "cell_type": "code",
   "execution_count": null,
   "id": "9014cd06-11eb-476a-91cd-8d7d4577662d",
   "metadata": {},
   "outputs": [],
   "source": []
  },
  {
   "cell_type": "code",
   "execution_count": null,
   "id": "e753d899-994c-4817-808b-486dbc1491e1",
   "metadata": {},
   "outputs": [],
   "source": [
    "----------------------------------------------------------------------------------------------------------------------"
   ]
  },
  {
   "cell_type": "code",
   "execution_count": null,
   "id": "cfb3e523-3a87-48d0-a904-9e26380a3e32",
   "metadata": {},
   "outputs": [],
   "source": [
    "14. Finding a substring within a string\n",
    "For example, if we were presented a series of lines formatted as follows:\n",
    "From stephen.marquard@uct.ac.za Sat Jan 5 09:14:16 2008\n",
    "and we wanted to pull out only the second half of the address (i.e., uct.ac.za)"
   ]
  },
  {
   "cell_type": "code",
   "execution_count": null,
   "id": "4dde78c2-6c6c-4e3e-ab2e-652aef8ac628",
   "metadata": {},
   "outputs": [],
   "source": []
  },
  {
   "cell_type": "code",
   "execution_count": null,
   "id": "51395fe7-89a2-4407-a0d4-6c4e3cd724c2",
   "metadata": {},
   "outputs": [],
   "source": [
    "----------------------------------------------------------------------------------------------------------------------"
   ]
  },
  {
   "cell_type": "code",
   "execution_count": null,
   "id": "7c6c5460-b2c9-43c1-ad39-ea4d8d677b9d",
   "metadata": {},
   "outputs": [],
   "source": [
    "15. Write a Python program to add &#39;ing&#39; at the end of a given string (length should be at least 3). If the\n",
    "given string already ends with &#39;ing&#39; then add &#39;ly&#39; instead.\n",
    "If the string length of the given string is less than 3, leave it unchanged.\n",
    "Go to the editor\n",
    "Sample String : &#39;abc&#39;\n",
    "Expected Result : &#39;abcing&#39;\n",
    "Sample String : &#39;string&#39;\n",
    "Expected Result : &#39;stringly&#39;"
   ]
  },
  {
   "cell_type": "code",
   "execution_count": null,
   "id": "fa5c98da-76df-45e9-8aa5-00f88cfc028d",
   "metadata": {},
   "outputs": [],
   "source": []
  },
  {
   "cell_type": "code",
   "execution_count": null,
   "id": "0e24684f-6207-4135-92b2-d5f50d141bc2",
   "metadata": {},
   "outputs": [],
   "source": [
    "----------------------------------------------------------------------------------------------------------------------"
   ]
  },
  {
   "cell_type": "code",
   "execution_count": null,
   "id": "c452aa7f-b304-4678-92f1-47a20855b6f1",
   "metadata": {},
   "outputs": [],
   "source": [
    "16. Take the following Python code that stores a string:‘\n",
    "string = &#39;X-DSPAM-Confidence: 0.8475&#39;\n",
    "Extract the portion of the string after the colon character and then use the float function to convert\n",
    "the extracted string into a floating point number."
   ]
  },
  {
   "cell_type": "code",
   "execution_count": null,
   "id": "970b9878-dad5-4308-abb6-7a7b34b77f60",
   "metadata": {},
   "outputs": [],
   "source": []
  }
 ],
 "metadata": {
  "kernelspec": {
   "display_name": "Python 3 (ipykernel)",
   "language": "python",
   "name": "python3"
  },
  "language_info": {
   "codemirror_mode": {
    "name": "ipython",
    "version": 3
   },
   "file_extension": ".py",
   "mimetype": "text/x-python",
   "name": "python",
   "nbconvert_exporter": "python",
   "pygments_lexer": "ipython3",
   "version": "3.11.7"
  }
 },
 "nbformat": 4,
 "nbformat_minor": 5
}
